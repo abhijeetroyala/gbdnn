{
 "cells": [
  {
   "cell_type": "markdown",
   "metadata": {},
   "source": [
    "# load example data"
   ]
  },
  {
   "cell_type": "code",
   "execution_count": 2,
   "metadata": {
    "collapsed": true
   },
   "outputs": [],
   "source": [
    "import numpy as np\n",
    "from monty.serialization import loadfn\n",
    "\n",
    "X, y_real_adsorption, y_real_volume, y_real_disorder = loadfn('example_data.json')\n",
    "X = np.atleast_1d(X)\n",
    "y_real_adsorption = np.atleast_1d(y_real_adsorption)\n",
    "y_real_volume = np.atleast_1d(y_real_volume)\n",
    "y_real_disorder = np.atleast_1d(y_real_disorder)"
   ]
  },
  {
   "cell_type": "markdown",
   "metadata": {},
   "source": [
    "# Predict solutes adsorption"
   ]
  },
  {
   "cell_type": "code",
   "execution_count": 4,
   "metadata": {},
   "outputs": [],
   "source": [
    "import os\n",
    "from sklearn.externals import joblib\n",
    "from keras.models import load_model\n",
    "\n",
    "adsorption_X_scaler = joblib.load('../models/adsorption/X_scaler.save')\n",
    "adsorption_y_scaler = joblib.load('../models/adsorption/y_scaler.save')\n",
    "adsorption_model = load_model('../models/adsorption/model.hdf5')"
   ]
  },
  {
   "cell_type": "code",
   "execution_count": 6,
   "metadata": {},
   "outputs": [],
   "source": [
    "y_pred_adsorption = adsorption_y_scaler.inverse_transform(adsorption_model.predict(adsorption_X_scaler.transform(X))).ravel()"
   ]
  },
  {
   "cell_type": "code",
   "execution_count": 7,
   "metadata": {},
   "outputs": [
    {
     "data": {
      "text/latex": [
       "$$RMSE: 0.965 \\ nm^{-2}$$"
      ],
      "text/plain": [
       "<IPython.core.display.Math object>"
      ]
     },
     "metadata": {},
     "output_type": "display_data"
    }
   ],
   "source": [
    "from sklearn.metrics import mean_squared_error\n",
    "from IPython.display import display, Math\n",
    "\n",
    "rmse = np.sqrt(mean_squared_error(y_real_adsorption, y_pred_adsorption)) * 100\n",
    "\n",
    "display(Math(r'RMSE: %.3f \\ nm^{-2}' % rmse))"
   ]
  },
  {
   "cell_type": "markdown",
   "metadata": {},
   "source": [
    "# Predict free volume of grain boundary"
   ]
  },
  {
   "cell_type": "code",
   "execution_count": 8,
   "metadata": {
    "collapsed": true
   },
   "outputs": [],
   "source": [
    "import os\n",
    "from sklearn.externals import joblib\n",
    "from keras.models import load_model\n",
    "\n",
    "volume_X_scaler = joblib.load('../models/volume/X_scaler.save')\n",
    "volume_y_scaler = joblib.load('../models/volume/y_scaler.save')\n",
    "volume_model = load_model('../models/volume/model.hdf5')"
   ]
  },
  {
   "cell_type": "code",
   "execution_count": 9,
   "metadata": {
    "collapsed": true
   },
   "outputs": [],
   "source": [
    "y_pred_volume = volume_y_scaler.inverse_transform(volume_model.predict(volume_X_scaler.transform(X))).ravel()"
   ]
  },
  {
   "cell_type": "code",
   "execution_count": 10,
   "metadata": {},
   "outputs": [
    {
     "data": {
      "text/latex": [
       "$$RMSE: 0.005 \\ nm$$"
      ],
      "text/plain": [
       "<IPython.core.display.Math object>"
      ]
     },
     "metadata": {},
     "output_type": "display_data"
    }
   ],
   "source": [
    "from sklearn.metrics import mean_squared_error\n",
    "from IPython.display import display, Math\n",
    "\n",
    "rmse = np.sqrt(mean_squared_error(y_real_volume, y_pred_volume)) / 10\n",
    "\n",
    "display(Math(r'RMSE: %.3f \\ nm' % rmse))"
   ]
  },
  {
   "cell_type": "markdown",
   "metadata": {},
   "source": [
    "# Predict excess disorder"
   ]
  },
  {
   "cell_type": "code",
   "execution_count": 13,
   "metadata": {
    "collapsed": true
   },
   "outputs": [],
   "source": [
    "import os\n",
    "from sklearn.externals import joblib\n",
    "from keras.models import load_model\n",
    "\n",
    "disorder_X_scaler = joblib.load('../models/disorder/X_scaler.save')\n",
    "disorder_y_scaler = joblib.load('../models/disorder/y_scaler.save')\n",
    "disorder_model = load_model('../models/disorder/model.hdf5')"
   ]
  },
  {
   "cell_type": "code",
   "execution_count": 14,
   "metadata": {},
   "outputs": [],
   "source": [
    "y_pred_disorder = disorder_y_scaler.inverse_transform(disorder_model.predict(disorder_X_scaler.transform(X))).ravel()"
   ]
  },
  {
   "cell_type": "code",
   "execution_count": 15,
   "metadata": {},
   "outputs": [
    {
     "data": {
      "text/latex": [
       "$$RMSE: 2.481 \\ nm^{-2}$$"
      ],
      "text/plain": [
       "<IPython.core.display.Math object>"
      ]
     },
     "metadata": {},
     "output_type": "display_data"
    }
   ],
   "source": [
    "from sklearn.metrics import mean_squared_error\n",
    "from IPython.display import display, Math\n",
    "\n",
    "rmse = np.sqrt(mean_squared_error(y_real_disorder, y_pred_disorder)) * 100\n",
    "\n",
    "display(Math(r'RMSE: %.3f \\ nm^{-2}' % rmse))"
   ]
  },
  {
   "cell_type": "code",
   "execution_count": null,
   "metadata": {
    "collapsed": true
   },
   "outputs": [],
   "source": []
  }
 ],
 "metadata": {
  "kernelspec": {
   "display_name": "Python 3",
   "language": "python",
   "name": "python3"
  },
  "language_info": {
   "codemirror_mode": {
    "name": "ipython",
    "version": 3
   },
   "file_extension": ".py",
   "mimetype": "text/x-python",
   "name": "python",
   "nbconvert_exporter": "python",
   "pygments_lexer": "ipython3",
   "version": "3.6.3"
  }
 },
 "nbformat": 4,
 "nbformat_minor": 2
}
